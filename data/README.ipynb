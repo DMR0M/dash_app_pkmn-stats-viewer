{
 "cells": [
  {
   "attachments": {},
   "cell_type": "markdown",
   "metadata": {},
   "source": [
    "### Create a MongoDB Database"
   ]
  },
  {
   "attachments": {},
   "cell_type": "markdown",
   "metadata": {},
   "source": [
    "\n",
    "Install MongoDB https://www.mongodb.com/try/download/community\n",
    "Install MongoShell https://www.mongodb.com/try/download/shell\n",
    "Install MongoCompass (Database GUI) https://www.mongodb.com/try/download/compass\n",
    "\n"
   ]
  }
 ],
 "metadata": {
  "language_info": {
   "name": "python"
  },
  "orig_nbformat": 4
 },
 "nbformat": 4,
 "nbformat_minor": 2
}
