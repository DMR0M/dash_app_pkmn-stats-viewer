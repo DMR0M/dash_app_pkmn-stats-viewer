{
 "cells": [
  {
   "attachments": {},
   "cell_type": "markdown",
   "metadata": {},
   "source": [
    "### Manage Pokemon Dataset"
   ]
  },
  {
   "cell_type": "code",
   "execution_count": 313,
   "metadata": {},
   "outputs": [],
   "source": [
    "import pandas as pd"
   ]
  },
  {
   "cell_type": "code",
   "execution_count": 314,
   "metadata": {},
   "outputs": [],
   "source": [
    "pkmn_dataset = pd.read_csv('csv/all_pkmn_data.csv', index_col=False)"
   ]
  },
  {
   "cell_type": "code",
   "execution_count": 315,
   "metadata": {},
   "outputs": [
    {
     "data": {
      "text/html": [
       "<div>\n",
       "<style scoped>\n",
       "    .dataframe tbody tr th:only-of-type {\n",
       "        vertical-align: middle;\n",
       "    }\n",
       "\n",
       "    .dataframe tbody tr th {\n",
       "        vertical-align: top;\n",
       "    }\n",
       "\n",
       "    .dataframe thead th {\n",
       "        text-align: right;\n",
       "    }\n",
       "</style>\n",
       "<table border=\"1\" class=\"dataframe\">\n",
       "  <thead>\n",
       "    <tr style=\"text-align: right;\">\n",
       "      <th></th>\n",
       "      <th>Name</th>\n",
       "      <th>Pokedex_Number</th>\n",
       "      <th>Type</th>\n",
       "      <th>Ability</th>\n",
       "      <th>Hp</th>\n",
       "      <th>Attack</th>\n",
       "      <th>Defense</th>\n",
       "      <th>Sp. Attack</th>\n",
       "      <th>Sp. Defense</th>\n",
       "      <th>Speed</th>\n",
       "    </tr>\n",
       "  </thead>\n",
       "  <tbody>\n",
       "    <tr>\n",
       "      <th>0</th>\n",
       "      <td>Bulbasaur</td>\n",
       "      <td>#00001</td>\n",
       "      <td>['Grass', 'Poison']</td>\n",
       "      <td>Overgrow Chlorophyll</td>\n",
       "      <td>45</td>\n",
       "      <td>49</td>\n",
       "      <td>49</td>\n",
       "      <td>65</td>\n",
       "      <td>65</td>\n",
       "      <td>45</td>\n",
       "    </tr>\n",
       "    <tr>\n",
       "      <th>1</th>\n",
       "      <td>Ivysaur</td>\n",
       "      <td>#00002</td>\n",
       "      <td>['Grass', 'Poison']</td>\n",
       "      <td>Overgrow Chlorophyll</td>\n",
       "      <td>60</td>\n",
       "      <td>62</td>\n",
       "      <td>63</td>\n",
       "      <td>80</td>\n",
       "      <td>80</td>\n",
       "      <td>60</td>\n",
       "    </tr>\n",
       "    <tr>\n",
       "      <th>2</th>\n",
       "      <td>Venusaur</td>\n",
       "      <td>#00003</td>\n",
       "      <td>['Grass', 'Poison']</td>\n",
       "      <td>Overgrow Chlorophyll</td>\n",
       "      <td>80</td>\n",
       "      <td>82</td>\n",
       "      <td>83</td>\n",
       "      <td>100</td>\n",
       "      <td>100</td>\n",
       "      <td>80</td>\n",
       "    </tr>\n",
       "    <tr>\n",
       "      <th>3</th>\n",
       "      <td>Charmander</td>\n",
       "      <td>#00004</td>\n",
       "      <td>['Fire', nan]</td>\n",
       "      <td>Blaze Solar Power</td>\n",
       "      <td>39</td>\n",
       "      <td>52</td>\n",
       "      <td>43</td>\n",
       "      <td>60</td>\n",
       "      <td>50</td>\n",
       "      <td>65</td>\n",
       "    </tr>\n",
       "    <tr>\n",
       "      <th>4</th>\n",
       "      <td>Charmeleon</td>\n",
       "      <td>#00005</td>\n",
       "      <td>['Fire', nan]</td>\n",
       "      <td>Blaze Solar Power</td>\n",
       "      <td>58</td>\n",
       "      <td>64</td>\n",
       "      <td>58</td>\n",
       "      <td>80</td>\n",
       "      <td>65</td>\n",
       "      <td>80</td>\n",
       "    </tr>\n",
       "    <tr>\n",
       "      <th>...</th>\n",
       "      <td>...</td>\n",
       "      <td>...</td>\n",
       "      <td>...</td>\n",
       "      <td>...</td>\n",
       "      <td>...</td>\n",
       "      <td>...</td>\n",
       "      <td>...</td>\n",
       "      <td>...</td>\n",
       "      <td>...</td>\n",
       "      <td>...</td>\n",
       "    </tr>\n",
       "    <tr>\n",
       "      <th>1005</th>\n",
       "      <td>Iron Valiant</td>\n",
       "      <td>#1006</td>\n",
       "      <td>['Fairy', 'Fighting']</td>\n",
       "      <td>Quark Drive</td>\n",
       "      <td>74</td>\n",
       "      <td>130</td>\n",
       "      <td>90</td>\n",
       "      <td>120</td>\n",
       "      <td>60</td>\n",
       "      <td>116</td>\n",
       "    </tr>\n",
       "    <tr>\n",
       "      <th>1006</th>\n",
       "      <td>Koraidon</td>\n",
       "      <td>#1007</td>\n",
       "      <td>['Fighting', 'Dragon']</td>\n",
       "      <td>Orichalcum Pulse</td>\n",
       "      <td>100</td>\n",
       "      <td>135</td>\n",
       "      <td>115</td>\n",
       "      <td>85</td>\n",
       "      <td>100</td>\n",
       "      <td>135</td>\n",
       "    </tr>\n",
       "    <tr>\n",
       "      <th>1007</th>\n",
       "      <td>Miraidon</td>\n",
       "      <td>#1008</td>\n",
       "      <td>['Electric', 'Dragon']</td>\n",
       "      <td>Hadron Engine</td>\n",
       "      <td>100</td>\n",
       "      <td>85</td>\n",
       "      <td>100</td>\n",
       "      <td>135</td>\n",
       "      <td>115</td>\n",
       "      <td>135</td>\n",
       "    </tr>\n",
       "    <tr>\n",
       "      <th>1008</th>\n",
       "      <td>Walking Wake</td>\n",
       "      <td>#1009</td>\n",
       "      <td>['Water', 'Dragon']</td>\n",
       "      <td>Protosynthesis</td>\n",
       "      <td>99</td>\n",
       "      <td>83</td>\n",
       "      <td>91</td>\n",
       "      <td>125</td>\n",
       "      <td>83</td>\n",
       "      <td>109</td>\n",
       "    </tr>\n",
       "    <tr>\n",
       "      <th>1009</th>\n",
       "      <td>Iron Leaves</td>\n",
       "      <td>#1010</td>\n",
       "      <td>['Grass', 'Psychic']</td>\n",
       "      <td>Quark Drive</td>\n",
       "      <td>90</td>\n",
       "      <td>130</td>\n",
       "      <td>88</td>\n",
       "      <td>70</td>\n",
       "      <td>108</td>\n",
       "      <td>104</td>\n",
       "    </tr>\n",
       "  </tbody>\n",
       "</table>\n",
       "<p>1010 rows × 10 columns</p>\n",
       "</div>"
      ],
      "text/plain": [
       "              Name Pokedex_Number                    Type  \\\n",
       "0        Bulbasaur         #00001     ['Grass', 'Poison']   \n",
       "1          Ivysaur         #00002     ['Grass', 'Poison']   \n",
       "2         Venusaur         #00003     ['Grass', 'Poison']   \n",
       "3       Charmander         #00004           ['Fire', nan]   \n",
       "4       Charmeleon         #00005           ['Fire', nan]   \n",
       "...            ...            ...                     ...   \n",
       "1005  Iron Valiant          #1006   ['Fairy', 'Fighting']   \n",
       "1006      Koraidon          #1007  ['Fighting', 'Dragon']   \n",
       "1007      Miraidon          #1008  ['Electric', 'Dragon']   \n",
       "1008  Walking Wake          #1009     ['Water', 'Dragon']   \n",
       "1009   Iron Leaves          #1010    ['Grass', 'Psychic']   \n",
       "\n",
       "                   Ability   Hp  Attack  Defense  Sp. Attack  Sp. Defense  \\\n",
       "0     Overgrow Chlorophyll   45      49       49          65           65   \n",
       "1     Overgrow Chlorophyll   60      62       63          80           80   \n",
       "2     Overgrow Chlorophyll   80      82       83         100          100   \n",
       "3        Blaze Solar Power   39      52       43          60           50   \n",
       "4        Blaze Solar Power   58      64       58          80           65   \n",
       "...                    ...  ...     ...      ...         ...          ...   \n",
       "1005           Quark Drive   74     130       90         120           60   \n",
       "1006      Orichalcum Pulse  100     135      115          85          100   \n",
       "1007         Hadron Engine  100      85      100         135          115   \n",
       "1008        Protosynthesis   99      83       91         125           83   \n",
       "1009           Quark Drive   90     130       88          70          108   \n",
       "\n",
       "      Speed  \n",
       "0        45  \n",
       "1        60  \n",
       "2        80  \n",
       "3        65  \n",
       "4        80  \n",
       "...     ...  \n",
       "1005    116  \n",
       "1006    135  \n",
       "1007    135  \n",
       "1008    109  \n",
       "1009    104  \n",
       "\n",
       "[1010 rows x 10 columns]"
      ]
     },
     "execution_count": 315,
     "metadata": {},
     "output_type": "execute_result"
    }
   ],
   "source": [
    "pkmn_dataset"
   ]
  },
  {
   "cell_type": "code",
   "execution_count": 316,
   "metadata": {},
   "outputs": [],
   "source": [
    "pkmn_data_set = pkmn_dataset.rename(columns={'Sp. Attack' : 'Sp_Attack',\n",
    "                                             'Sp. Defense' : 'Sp_Defense'})"
   ]
  },
  {
   "cell_type": "code",
   "execution_count": 317,
   "metadata": {},
   "outputs": [],
   "source": [
    "pkmn_data_set.to_csv('csv/pkmn_dataset.csv', index=False)"
   ]
  },
  {
   "cell_type": "code",
   "execution_count": 318,
   "metadata": {},
   "outputs": [],
   "source": [
    "pkmn_data_set = pkmn_data_set.set_index('Name')"
   ]
  },
  {
   "cell_type": "code",
   "execution_count": 319,
   "metadata": {},
   "outputs": [
    {
     "data": {
      "text/html": [
       "<div>\n",
       "<style scoped>\n",
       "    .dataframe tbody tr th:only-of-type {\n",
       "        vertical-align: middle;\n",
       "    }\n",
       "\n",
       "    .dataframe tbody tr th {\n",
       "        vertical-align: top;\n",
       "    }\n",
       "\n",
       "    .dataframe thead th {\n",
       "        text-align: right;\n",
       "    }\n",
       "</style>\n",
       "<table border=\"1\" class=\"dataframe\">\n",
       "  <thead>\n",
       "    <tr style=\"text-align: right;\">\n",
       "      <th></th>\n",
       "      <th>Pokedex_Number</th>\n",
       "      <th>Type</th>\n",
       "      <th>Ability</th>\n",
       "      <th>Hp</th>\n",
       "      <th>Attack</th>\n",
       "      <th>Defense</th>\n",
       "      <th>Sp_Attack</th>\n",
       "      <th>Sp_Defense</th>\n",
       "      <th>Speed</th>\n",
       "    </tr>\n",
       "    <tr>\n",
       "      <th>Name</th>\n",
       "      <th></th>\n",
       "      <th></th>\n",
       "      <th></th>\n",
       "      <th></th>\n",
       "      <th></th>\n",
       "      <th></th>\n",
       "      <th></th>\n",
       "      <th></th>\n",
       "      <th></th>\n",
       "    </tr>\n",
       "  </thead>\n",
       "  <tbody>\n",
       "    <tr>\n",
       "      <th>Bulbasaur</th>\n",
       "      <td>#00001</td>\n",
       "      <td>['Grass', 'Poison']</td>\n",
       "      <td>Overgrow Chlorophyll</td>\n",
       "      <td>45</td>\n",
       "      <td>49</td>\n",
       "      <td>49</td>\n",
       "      <td>65</td>\n",
       "      <td>65</td>\n",
       "      <td>45</td>\n",
       "    </tr>\n",
       "    <tr>\n",
       "      <th>Ivysaur</th>\n",
       "      <td>#00002</td>\n",
       "      <td>['Grass', 'Poison']</td>\n",
       "      <td>Overgrow Chlorophyll</td>\n",
       "      <td>60</td>\n",
       "      <td>62</td>\n",
       "      <td>63</td>\n",
       "      <td>80</td>\n",
       "      <td>80</td>\n",
       "      <td>60</td>\n",
       "    </tr>\n",
       "    <tr>\n",
       "      <th>Venusaur</th>\n",
       "      <td>#00003</td>\n",
       "      <td>['Grass', 'Poison']</td>\n",
       "      <td>Overgrow Chlorophyll</td>\n",
       "      <td>80</td>\n",
       "      <td>82</td>\n",
       "      <td>83</td>\n",
       "      <td>100</td>\n",
       "      <td>100</td>\n",
       "      <td>80</td>\n",
       "    </tr>\n",
       "    <tr>\n",
       "      <th>Charmander</th>\n",
       "      <td>#00004</td>\n",
       "      <td>['Fire', nan]</td>\n",
       "      <td>Blaze Solar Power</td>\n",
       "      <td>39</td>\n",
       "      <td>52</td>\n",
       "      <td>43</td>\n",
       "      <td>60</td>\n",
       "      <td>50</td>\n",
       "      <td>65</td>\n",
       "    </tr>\n",
       "    <tr>\n",
       "      <th>Charmeleon</th>\n",
       "      <td>#00005</td>\n",
       "      <td>['Fire', nan]</td>\n",
       "      <td>Blaze Solar Power</td>\n",
       "      <td>58</td>\n",
       "      <td>64</td>\n",
       "      <td>58</td>\n",
       "      <td>80</td>\n",
       "      <td>65</td>\n",
       "      <td>80</td>\n",
       "    </tr>\n",
       "    <tr>\n",
       "      <th>...</th>\n",
       "      <td>...</td>\n",
       "      <td>...</td>\n",
       "      <td>...</td>\n",
       "      <td>...</td>\n",
       "      <td>...</td>\n",
       "      <td>...</td>\n",
       "      <td>...</td>\n",
       "      <td>...</td>\n",
       "      <td>...</td>\n",
       "    </tr>\n",
       "    <tr>\n",
       "      <th>Iron Valiant</th>\n",
       "      <td>#1006</td>\n",
       "      <td>['Fairy', 'Fighting']</td>\n",
       "      <td>Quark Drive</td>\n",
       "      <td>74</td>\n",
       "      <td>130</td>\n",
       "      <td>90</td>\n",
       "      <td>120</td>\n",
       "      <td>60</td>\n",
       "      <td>116</td>\n",
       "    </tr>\n",
       "    <tr>\n",
       "      <th>Koraidon</th>\n",
       "      <td>#1007</td>\n",
       "      <td>['Fighting', 'Dragon']</td>\n",
       "      <td>Orichalcum Pulse</td>\n",
       "      <td>100</td>\n",
       "      <td>135</td>\n",
       "      <td>115</td>\n",
       "      <td>85</td>\n",
       "      <td>100</td>\n",
       "      <td>135</td>\n",
       "    </tr>\n",
       "    <tr>\n",
       "      <th>Miraidon</th>\n",
       "      <td>#1008</td>\n",
       "      <td>['Electric', 'Dragon']</td>\n",
       "      <td>Hadron Engine</td>\n",
       "      <td>100</td>\n",
       "      <td>85</td>\n",
       "      <td>100</td>\n",
       "      <td>135</td>\n",
       "      <td>115</td>\n",
       "      <td>135</td>\n",
       "    </tr>\n",
       "    <tr>\n",
       "      <th>Walking Wake</th>\n",
       "      <td>#1009</td>\n",
       "      <td>['Water', 'Dragon']</td>\n",
       "      <td>Protosynthesis</td>\n",
       "      <td>99</td>\n",
       "      <td>83</td>\n",
       "      <td>91</td>\n",
       "      <td>125</td>\n",
       "      <td>83</td>\n",
       "      <td>109</td>\n",
       "    </tr>\n",
       "    <tr>\n",
       "      <th>Iron Leaves</th>\n",
       "      <td>#1010</td>\n",
       "      <td>['Grass', 'Psychic']</td>\n",
       "      <td>Quark Drive</td>\n",
       "      <td>90</td>\n",
       "      <td>130</td>\n",
       "      <td>88</td>\n",
       "      <td>70</td>\n",
       "      <td>108</td>\n",
       "      <td>104</td>\n",
       "    </tr>\n",
       "  </tbody>\n",
       "</table>\n",
       "<p>1010 rows × 9 columns</p>\n",
       "</div>"
      ],
      "text/plain": [
       "             Pokedex_Number                    Type               Ability  \\\n",
       "Name                                                                        \n",
       "Bulbasaur            #00001     ['Grass', 'Poison']  Overgrow Chlorophyll   \n",
       "Ivysaur              #00002     ['Grass', 'Poison']  Overgrow Chlorophyll   \n",
       "Venusaur             #00003     ['Grass', 'Poison']  Overgrow Chlorophyll   \n",
       "Charmander           #00004           ['Fire', nan]     Blaze Solar Power   \n",
       "Charmeleon           #00005           ['Fire', nan]     Blaze Solar Power   \n",
       "...                     ...                     ...                   ...   \n",
       "Iron Valiant          #1006   ['Fairy', 'Fighting']           Quark Drive   \n",
       "Koraidon              #1007  ['Fighting', 'Dragon']      Orichalcum Pulse   \n",
       "Miraidon              #1008  ['Electric', 'Dragon']         Hadron Engine   \n",
       "Walking Wake          #1009     ['Water', 'Dragon']        Protosynthesis   \n",
       "Iron Leaves           #1010    ['Grass', 'Psychic']           Quark Drive   \n",
       "\n",
       "               Hp  Attack  Defense  Sp_Attack  Sp_Defense  Speed  \n",
       "Name                                                              \n",
       "Bulbasaur      45      49       49         65          65     45  \n",
       "Ivysaur        60      62       63         80          80     60  \n",
       "Venusaur       80      82       83        100         100     80  \n",
       "Charmander     39      52       43         60          50     65  \n",
       "Charmeleon     58      64       58         80          65     80  \n",
       "...           ...     ...      ...        ...         ...    ...  \n",
       "Iron Valiant   74     130       90        120          60    116  \n",
       "Koraidon      100     135      115         85         100    135  \n",
       "Miraidon      100      85      100        135         115    135  \n",
       "Walking Wake   99      83       91        125          83    109  \n",
       "Iron Leaves    90     130       88         70         108    104  \n",
       "\n",
       "[1010 rows x 9 columns]"
      ]
     },
     "execution_count": 319,
     "metadata": {},
     "output_type": "execute_result"
    }
   ],
   "source": [
    "pkmn_data_set"
   ]
  },
  {
   "cell_type": "code",
   "execution_count": 320,
   "metadata": {},
   "outputs": [],
   "source": [
    "import numpy as np"
   ]
  },
  {
   "cell_type": "code",
   "execution_count": 321,
   "metadata": {},
   "outputs": [
    {
     "data": {
      "text/html": [
       "<div>\n",
       "<style scoped>\n",
       "    .dataframe tbody tr th:only-of-type {\n",
       "        vertical-align: middle;\n",
       "    }\n",
       "\n",
       "    .dataframe tbody tr th {\n",
       "        vertical-align: top;\n",
       "    }\n",
       "\n",
       "    .dataframe thead th {\n",
       "        text-align: right;\n",
       "    }\n",
       "</style>\n",
       "<table border=\"1\" class=\"dataframe\">\n",
       "  <thead>\n",
       "    <tr style=\"text-align: right;\">\n",
       "      <th></th>\n",
       "      <th>Pokedex_Number</th>\n",
       "      <th>Type</th>\n",
       "      <th>Ability</th>\n",
       "      <th>Hp</th>\n",
       "      <th>Attack</th>\n",
       "      <th>Defense</th>\n",
       "      <th>Sp_Attack</th>\n",
       "      <th>Sp_Defense</th>\n",
       "      <th>Speed</th>\n",
       "    </tr>\n",
       "    <tr>\n",
       "      <th>Name</th>\n",
       "      <th></th>\n",
       "      <th></th>\n",
       "      <th></th>\n",
       "      <th></th>\n",
       "      <th></th>\n",
       "      <th></th>\n",
       "      <th></th>\n",
       "      <th></th>\n",
       "      <th></th>\n",
       "    </tr>\n",
       "  </thead>\n",
       "  <tbody>\n",
       "    <tr>\n",
       "      <th>Bulbasaur</th>\n",
       "      <td>#00001</td>\n",
       "      <td>['Grass', 'Poison']</td>\n",
       "      <td>Overgrow Chlorophyll</td>\n",
       "      <td>45</td>\n",
       "      <td>49</td>\n",
       "      <td>49</td>\n",
       "      <td>65</td>\n",
       "      <td>65</td>\n",
       "      <td>45</td>\n",
       "    </tr>\n",
       "    <tr>\n",
       "      <th>Ivysaur</th>\n",
       "      <td>#00002</td>\n",
       "      <td>['Grass', 'Poison']</td>\n",
       "      <td>Overgrow Chlorophyll</td>\n",
       "      <td>60</td>\n",
       "      <td>62</td>\n",
       "      <td>63</td>\n",
       "      <td>80</td>\n",
       "      <td>80</td>\n",
       "      <td>60</td>\n",
       "    </tr>\n",
       "    <tr>\n",
       "      <th>Venusaur</th>\n",
       "      <td>#00003</td>\n",
       "      <td>['Grass', 'Poison']</td>\n",
       "      <td>Overgrow Chlorophyll</td>\n",
       "      <td>80</td>\n",
       "      <td>82</td>\n",
       "      <td>83</td>\n",
       "      <td>100</td>\n",
       "      <td>100</td>\n",
       "      <td>80</td>\n",
       "    </tr>\n",
       "    <tr>\n",
       "      <th>Charmander</th>\n",
       "      <td>#00004</td>\n",
       "      <td>['Fire', nan]</td>\n",
       "      <td>Blaze Solar Power</td>\n",
       "      <td>39</td>\n",
       "      <td>52</td>\n",
       "      <td>43</td>\n",
       "      <td>60</td>\n",
       "      <td>50</td>\n",
       "      <td>65</td>\n",
       "    </tr>\n",
       "    <tr>\n",
       "      <th>Charmeleon</th>\n",
       "      <td>#00005</td>\n",
       "      <td>['Fire', nan]</td>\n",
       "      <td>Blaze Solar Power</td>\n",
       "      <td>58</td>\n",
       "      <td>64</td>\n",
       "      <td>58</td>\n",
       "      <td>80</td>\n",
       "      <td>65</td>\n",
       "      <td>80</td>\n",
       "    </tr>\n",
       "    <tr>\n",
       "      <th>...</th>\n",
       "      <td>...</td>\n",
       "      <td>...</td>\n",
       "      <td>...</td>\n",
       "      <td>...</td>\n",
       "      <td>...</td>\n",
       "      <td>...</td>\n",
       "      <td>...</td>\n",
       "      <td>...</td>\n",
       "      <td>...</td>\n",
       "    </tr>\n",
       "    <tr>\n",
       "      <th>Dratini</th>\n",
       "      <td>#00147</td>\n",
       "      <td>['Dragon', nan]</td>\n",
       "      <td>Shed Skin Marvel Scale</td>\n",
       "      <td>41</td>\n",
       "      <td>64</td>\n",
       "      <td>45</td>\n",
       "      <td>50</td>\n",
       "      <td>50</td>\n",
       "      <td>50</td>\n",
       "    </tr>\n",
       "    <tr>\n",
       "      <th>Dragonair</th>\n",
       "      <td>#00148</td>\n",
       "      <td>['Dragon', nan]</td>\n",
       "      <td>Shed Skin Marvel Scale</td>\n",
       "      <td>61</td>\n",
       "      <td>84</td>\n",
       "      <td>65</td>\n",
       "      <td>70</td>\n",
       "      <td>70</td>\n",
       "      <td>70</td>\n",
       "    </tr>\n",
       "    <tr>\n",
       "      <th>Dragonite</th>\n",
       "      <td>#00149</td>\n",
       "      <td>['Dragon', 'Flying']</td>\n",
       "      <td>Inner Focus Multiscale</td>\n",
       "      <td>91</td>\n",
       "      <td>134</td>\n",
       "      <td>95</td>\n",
       "      <td>100</td>\n",
       "      <td>100</td>\n",
       "      <td>80</td>\n",
       "    </tr>\n",
       "    <tr>\n",
       "      <th>Mewtwo</th>\n",
       "      <td>#00150</td>\n",
       "      <td>['Psychic', nan]</td>\n",
       "      <td>Pressure Unnerve</td>\n",
       "      <td>106</td>\n",
       "      <td>110</td>\n",
       "      <td>90</td>\n",
       "      <td>154</td>\n",
       "      <td>90</td>\n",
       "      <td>130</td>\n",
       "    </tr>\n",
       "    <tr>\n",
       "      <th>Mew</th>\n",
       "      <td>#00151</td>\n",
       "      <td>['Psychic', nan]</td>\n",
       "      <td>Synchronize</td>\n",
       "      <td>100</td>\n",
       "      <td>100</td>\n",
       "      <td>100</td>\n",
       "      <td>100</td>\n",
       "      <td>100</td>\n",
       "      <td>100</td>\n",
       "    </tr>\n",
       "  </tbody>\n",
       "</table>\n",
       "<p>151 rows × 9 columns</p>\n",
       "</div>"
      ],
      "text/plain": [
       "           Pokedex_Number                  Type                 Ability   Hp  \\\n",
       "Name                                                                           \n",
       "Bulbasaur          #00001   ['Grass', 'Poison']    Overgrow Chlorophyll   45   \n",
       "Ivysaur            #00002   ['Grass', 'Poison']    Overgrow Chlorophyll   60   \n",
       "Venusaur           #00003   ['Grass', 'Poison']    Overgrow Chlorophyll   80   \n",
       "Charmander         #00004         ['Fire', nan]       Blaze Solar Power   39   \n",
       "Charmeleon         #00005         ['Fire', nan]       Blaze Solar Power   58   \n",
       "...                   ...                   ...                     ...  ...   \n",
       "Dratini            #00147       ['Dragon', nan]  Shed Skin Marvel Scale   41   \n",
       "Dragonair          #00148       ['Dragon', nan]  Shed Skin Marvel Scale   61   \n",
       "Dragonite          #00149  ['Dragon', 'Flying']  Inner Focus Multiscale   91   \n",
       "Mewtwo             #00150      ['Psychic', nan]        Pressure Unnerve  106   \n",
       "Mew                #00151      ['Psychic', nan]             Synchronize  100   \n",
       "\n",
       "            Attack  Defense  Sp_Attack  Sp_Defense  Speed  \n",
       "Name                                                       \n",
       "Bulbasaur       49       49         65          65     45  \n",
       "Ivysaur         62       63         80          80     60  \n",
       "Venusaur        82       83        100         100     80  \n",
       "Charmander      52       43         60          50     65  \n",
       "Charmeleon      64       58         80          65     80  \n",
       "...            ...      ...        ...         ...    ...  \n",
       "Dratini         64       45         50          50     50  \n",
       "Dragonair       84       65         70          70     70  \n",
       "Dragonite      134       95        100         100     80  \n",
       "Mewtwo         110       90        154          90    130  \n",
       "Mew            100      100        100         100    100  \n",
       "\n",
       "[151 rows x 9 columns]"
      ]
     },
     "execution_count": 321,
     "metadata": {},
     "output_type": "execute_result"
    }
   ],
   "source": [
    "pkmn_data_set.loc[:'Mew']"
   ]
  },
  {
   "cell_type": "code",
   "execution_count": 322,
   "metadata": {},
   "outputs": [],
   "source": [
    "pkmn_data_set = pkmn_data_set.reset_index()"
   ]
  },
  {
   "cell_type": "code",
   "execution_count": 323,
   "metadata": {},
   "outputs": [
    {
     "data": {
      "text/plain": [
       "[150]"
      ]
     },
     "execution_count": 323,
     "metadata": {},
     "output_type": "execute_result"
    }
   ],
   "source": [
    "pkmn_data_set[(pkmn_data_set['Name'] == 'Mew')].index.to_list()"
   ]
  },
  {
   "cell_type": "code",
   "execution_count": 324,
   "metadata": {},
   "outputs": [],
   "source": [
    "generations = [n for n in range(1, 10)]\n",
    "\n",
    "def create_array(gen: int, limit: int) -> np.array:\n",
    "    if gen > 9:\n",
    "        return 'Invalid value'\n",
    "    \n",
    "    return np.array(\n",
    "        [\n",
    "            gen\n",
    "            for _ in range(limit)\n",
    "        ]  \n",
    "    )"
   ]
  },
  {
   "cell_type": "code",
   "execution_count": 325,
   "metadata": {},
   "outputs": [
    {
     "data": {
      "text/plain": [
       "array([1, 1, 1, 1, 1, 1, 1, 1, 1, 1, 1, 1, 1, 1, 1, 1, 1, 1, 1, 1, 1, 1,\n",
       "       1, 1, 1, 1, 1, 1, 1, 1, 1, 1, 1, 1, 1, 1, 1, 1, 1, 1, 1, 1, 1, 1,\n",
       "       1, 1, 1, 1, 1, 1, 1, 1, 1, 1, 1, 1, 1, 1, 1, 1, 1, 1, 1, 1, 1, 1,\n",
       "       1, 1, 1, 1, 1, 1, 1, 1, 1, 1, 1, 1, 1, 1, 1, 1, 1, 1, 1, 1, 1, 1,\n",
       "       1, 1, 1, 1, 1, 1, 1, 1, 1, 1, 1, 1, 1, 1, 1, 1, 1, 1, 1, 1, 1, 1,\n",
       "       1, 1, 1, 1, 1, 1, 1, 1, 1, 1, 1, 1, 1, 1, 1, 1, 1, 1, 1, 1, 1, 1,\n",
       "       1, 1, 1, 1, 1, 1, 1, 1, 1, 1, 1, 1, 1, 1, 1, 1, 1, 1, 1])"
      ]
     },
     "execution_count": 325,
     "metadata": {},
     "output_type": "execute_result"
    }
   ],
   "source": [
    "create_array(1, 151)"
   ]
  },
  {
   "cell_type": "code",
   "execution_count": 326,
   "metadata": {},
   "outputs": [
    {
     "data": {
      "text/plain": [
       "array([2, 2, 2, 2, 2, 2, 2, 2, 2, 2, 2, 2, 2, 2, 2, 2, 2, 2, 2, 2, 2, 2,\n",
       "       2, 2, 2, 2, 2, 2, 2, 2, 2, 2, 2, 2, 2, 2, 2, 2, 2, 2, 2, 2, 2, 2,\n",
       "       2, 2, 2, 2, 2, 2, 2, 2, 2, 2, 2, 2, 2, 2, 2, 2, 2, 2, 2, 2, 2, 2,\n",
       "       2, 2, 2, 2, 2, 2, 2, 2, 2, 2, 2, 2, 2, 2, 2, 2, 2, 2, 2, 2, 2, 2,\n",
       "       2, 2, 2, 2, 2, 2, 2, 2, 2, 2, 2, 2])"
      ]
     },
     "execution_count": 326,
     "metadata": {},
     "output_type": "execute_result"
    }
   ],
   "source": [
    "create_array(2, 100)"
   ]
  },
  {
   "cell_type": "code",
   "execution_count": 327,
   "metadata": {},
   "outputs": [],
   "source": [
    "pkmn_data_set = pkmn_data_set.set_index('Name')"
   ]
  },
  {
   "attachments": {},
   "cell_type": "markdown",
   "metadata": {},
   "source": [
    "### Number of Gen 1 Pokemon"
   ]
  },
  {
   "cell_type": "code",
   "execution_count": 328,
   "metadata": {},
   "outputs": [],
   "source": [
    "gen_1 = len(pkmn_data_set.loc[:'Mew'])"
   ]
  },
  {
   "cell_type": "code",
   "execution_count": 329,
   "metadata": {},
   "outputs": [
    {
     "data": {
      "text/plain": [
       "151"
      ]
     },
     "execution_count": 329,
     "metadata": {},
     "output_type": "execute_result"
    }
   ],
   "source": [
    "gen_1"
   ]
  },
  {
   "attachments": {},
   "cell_type": "markdown",
   "metadata": {},
   "source": [
    "### Number of Gen 2 Pokemon"
   ]
  },
  {
   "cell_type": "code",
   "execution_count": 330,
   "metadata": {},
   "outputs": [],
   "source": [
    "gen_2 = len(pkmn_data_set.loc['Chikorita':'Celebi'])"
   ]
  },
  {
   "cell_type": "code",
   "execution_count": 331,
   "metadata": {},
   "outputs": [
    {
     "data": {
      "text/plain": [
       "100"
      ]
     },
     "execution_count": 331,
     "metadata": {},
     "output_type": "execute_result"
    }
   ],
   "source": [
    "gen_2"
   ]
  },
  {
   "attachments": {},
   "cell_type": "markdown",
   "metadata": {},
   "source": [
    "### Number of Gen 3 Pokemon"
   ]
  },
  {
   "cell_type": "code",
   "execution_count": 332,
   "metadata": {},
   "outputs": [],
   "source": [
    "gen_3 = len(pkmn_data_set.loc['Treecko':'Deoxys'])"
   ]
  },
  {
   "cell_type": "code",
   "execution_count": 333,
   "metadata": {},
   "outputs": [
    {
     "data": {
      "text/plain": [
       "135"
      ]
     },
     "execution_count": 333,
     "metadata": {},
     "output_type": "execute_result"
    }
   ],
   "source": [
    "gen_3"
   ]
  },
  {
   "attachments": {},
   "cell_type": "markdown",
   "metadata": {},
   "source": [
    "### Number of Gen 4 Pokemon"
   ]
  },
  {
   "cell_type": "code",
   "execution_count": 334,
   "metadata": {},
   "outputs": [],
   "source": [
    "gen_4 = len(pkmn_data_set.loc['Turtwig':'Snivy']) - 1"
   ]
  },
  {
   "cell_type": "code",
   "execution_count": 335,
   "metadata": {},
   "outputs": [
    {
     "data": {
      "text/plain": [
       "108"
      ]
     },
     "execution_count": 335,
     "metadata": {},
     "output_type": "execute_result"
    }
   ],
   "source": [
    "gen_4"
   ]
  },
  {
   "attachments": {},
   "cell_type": "markdown",
   "metadata": {},
   "source": [
    "### Number of Gen 5 Pokemon"
   ]
  },
  {
   "cell_type": "code",
   "execution_count": 336,
   "metadata": {},
   "outputs": [],
   "source": [
    "gen_5 = len(pkmn_data_set.loc['Snivy':'Chespin']) - 1"
   ]
  },
  {
   "cell_type": "code",
   "execution_count": 337,
   "metadata": {},
   "outputs": [
    {
     "data": {
      "text/plain": [
       "155"
      ]
     },
     "execution_count": 337,
     "metadata": {},
     "output_type": "execute_result"
    }
   ],
   "source": [
    "gen_5"
   ]
  },
  {
   "attachments": {},
   "cell_type": "markdown",
   "metadata": {},
   "source": [
    "### Number of Gen 6 Pokemon"
   ]
  },
  {
   "cell_type": "code",
   "execution_count": 338,
   "metadata": {},
   "outputs": [],
   "source": [
    "gen_6 = len(pkmn_data_set.loc['Chespin':'Rowlet']) - 1"
   ]
  },
  {
   "cell_type": "code",
   "execution_count": 339,
   "metadata": {},
   "outputs": [
    {
     "data": {
      "text/plain": [
       "72"
      ]
     },
     "execution_count": 339,
     "metadata": {},
     "output_type": "execute_result"
    }
   ],
   "source": [
    "gen_6"
   ]
  },
  {
   "attachments": {},
   "cell_type": "markdown",
   "metadata": {},
   "source": [
    "### Number of Gen 7 Pokemon"
   ]
  },
  {
   "cell_type": "code",
   "execution_count": 340,
   "metadata": {},
   "outputs": [],
   "source": [
    "gen_7 = len(pkmn_data_set.loc['Rowlet':'Grookey']) - 1"
   ]
  },
  {
   "cell_type": "code",
   "execution_count": 341,
   "metadata": {},
   "outputs": [
    {
     "data": {
      "text/plain": [
       "88"
      ]
     },
     "execution_count": 341,
     "metadata": {},
     "output_type": "execute_result"
    }
   ],
   "source": [
    "gen_7"
   ]
  },
  {
   "attachments": {},
   "cell_type": "markdown",
   "metadata": {},
   "source": [
    "### Number of Gen 8 Pokemon"
   ]
  },
  {
   "cell_type": "code",
   "execution_count": 342,
   "metadata": {},
   "outputs": [],
   "source": [
    "gen_8 = len(pkmn_data_set.loc['Grookey':'Sprigatito']) - 1"
   ]
  },
  {
   "cell_type": "code",
   "execution_count": 343,
   "metadata": {},
   "outputs": [
    {
     "data": {
      "text/plain": [
       "96"
      ]
     },
     "execution_count": 343,
     "metadata": {},
     "output_type": "execute_result"
    }
   ],
   "source": [
    "gen_8"
   ]
  },
  {
   "attachments": {},
   "cell_type": "markdown",
   "metadata": {},
   "source": [
    "### Number of Gen 9 Pokemon"
   ]
  },
  {
   "cell_type": "code",
   "execution_count": 344,
   "metadata": {},
   "outputs": [],
   "source": [
    "gen_9 = len(pkmn_data_set.loc['Sprigatito':])"
   ]
  },
  {
   "cell_type": "code",
   "execution_count": 345,
   "metadata": {},
   "outputs": [
    {
     "data": {
      "text/plain": [
       "105"
      ]
     },
     "execution_count": 345,
     "metadata": {},
     "output_type": "execute_result"
    }
   ],
   "source": [
    "gen_9"
   ]
  },
  {
   "attachments": {},
   "cell_type": "markdown",
   "metadata": {},
   "source": [
    "### Total Number of Pokemons"
   ]
  },
  {
   "cell_type": "code",
   "execution_count": 346,
   "metadata": {},
   "outputs": [
    {
     "data": {
      "text/plain": [
       "1010"
      ]
     },
     "execution_count": 346,
     "metadata": {},
     "output_type": "execute_result"
    }
   ],
   "source": [
    "sum([gen_1, gen_2, gen_3, gen_4, gen_5, gen_6, gen_7, gen_8, gen_9])"
   ]
  },
  {
   "cell_type": "code",
   "execution_count": 347,
   "metadata": {},
   "outputs": [
    {
     "data": {
      "text/plain": [
       "(151, 100, 135, 108, 155, 72, 88, 96, 105)"
      ]
     },
     "execution_count": 347,
     "metadata": {},
     "output_type": "execute_result"
    }
   ],
   "source": [
    "gen_1, gen_2, gen_3, gen_4, gen_5, gen_6, gen_7, gen_8, gen_9"
   ]
  },
  {
   "cell_type": "code",
   "execution_count": 348,
   "metadata": {},
   "outputs": [],
   "source": [
    "gen_col = pd.Series(\n",
    "                [\n",
    "                *create_array(1, 151), *create_array(2, 100), *create_array(3, 135), \n",
    "                *create_array(4, 108), *create_array(5, 155), *create_array(6, 72),\n",
    "                *create_array(7, 88), *create_array(8, 96), *create_array(9, 105)\n",
    "                ],\n",
    "                name='Generation'\n",
    "        )"
   ]
  },
  {
   "cell_type": "code",
   "execution_count": 349,
   "metadata": {},
   "outputs": [
    {
     "data": {
      "text/plain": [
       "0       1\n",
       "1       1\n",
       "2       1\n",
       "3       1\n",
       "4       1\n",
       "       ..\n",
       "1005    9\n",
       "1006    9\n",
       "1007    9\n",
       "1008    9\n",
       "1009    9\n",
       "Name: Generation, Length: 1010, dtype: int64"
      ]
     },
     "execution_count": 349,
     "metadata": {},
     "output_type": "execute_result"
    }
   ],
   "source": [
    "gen_col"
   ]
  },
  {
   "cell_type": "code",
   "execution_count": 350,
   "metadata": {},
   "outputs": [],
   "source": [
    "gen_col = gen_col.to_numpy()"
   ]
  },
  {
   "cell_type": "code",
   "execution_count": 351,
   "metadata": {},
   "outputs": [
    {
     "data": {
      "text/plain": [
       "array([1, 1, 1, ..., 9, 9, 9])"
      ]
     },
     "execution_count": 351,
     "metadata": {},
     "output_type": "execute_result"
    }
   ],
   "source": [
    "gen_col"
   ]
  },
  {
   "cell_type": "code",
   "execution_count": 352,
   "metadata": {},
   "outputs": [],
   "source": [
    "new_pkmn_dataset = pkmn_data_set['Generation'] = gen_col"
   ]
  },
  {
   "cell_type": "code",
   "execution_count": 353,
   "metadata": {},
   "outputs": [
    {
     "data": {
      "text/plain": [
       "array([1, 1, 1, ..., 9, 9, 9])"
      ]
     },
     "execution_count": 353,
     "metadata": {},
     "output_type": "execute_result"
    }
   ],
   "source": [
    "new_pkmn_dataset"
   ]
  },
  {
   "cell_type": "code",
   "execution_count": 355,
   "metadata": {},
   "outputs": [
    {
     "data": {
      "text/plain": [
       "Pokedex_Number               #00252\n",
       "Type                 ['Grass', nan]\n",
       "Ability           Overgrow Unburden\n",
       "Hp                               40\n",
       "Attack                           45\n",
       "Defense                          35\n",
       "Sp_Attack                        65\n",
       "Sp_Defense                       55\n",
       "Speed                            70\n",
       "Generation                        3\n",
       "Name: Treecko, dtype: object"
      ]
     },
     "execution_count": 355,
     "metadata": {},
     "output_type": "execute_result"
    }
   ],
   "source": [
    "pkmn_data_set.loc['Treecko']"
   ]
  },
  {
   "cell_type": "code",
   "execution_count": 357,
   "metadata": {},
   "outputs": [],
   "source": [
    "pkmn_data_set.to_csv('new_pkmn_dataset.csv')"
   ]
  },
  {
   "cell_type": "code",
   "execution_count": null,
   "metadata": {},
   "outputs": [],
   "source": []
  }
 ],
 "metadata": {
  "kernelspec": {
   "display_name": "environment",
   "language": "python",
   "name": "python3"
  },
  "language_info": {
   "codemirror_mode": {
    "name": "ipython",
    "version": 3
   },
   "file_extension": ".py",
   "mimetype": "text/x-python",
   "name": "python",
   "nbconvert_exporter": "python",
   "pygments_lexer": "ipython3",
   "version": "3.11.3"
  },
  "orig_nbformat": 4
 },
 "nbformat": 4,
 "nbformat_minor": 2
}
